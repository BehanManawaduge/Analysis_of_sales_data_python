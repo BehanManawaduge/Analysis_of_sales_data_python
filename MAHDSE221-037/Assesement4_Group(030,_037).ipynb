{
  "nbformat": 4,
  "nbformat_minor": 0,
  "metadata": {
    "colab": {
      "provenance": []
    },
    "kernelspec": {
      "name": "python3",
      "display_name": "Python 3"
    },
    "language_info": {
      "name": "python"
    }
  },
  "cells": [
    {
      "cell_type": "markdown",
      "source": [
        "# **Multinomial Regression**"
      ],
      "metadata": {
        "id": "gPE_dvEEnE7q"
      }
    },
    {
      "cell_type": "code",
      "execution_count": null,
      "metadata": {
        "colab": {
          "base_uri": "https://localhost:8080/"
        },
        "id": "IKEn4PA0lCPm",
        "outputId": "6bc4e34c-379f-45da-a28b-8a739f9e58b4"
      },
      "outputs": [
        {
          "output_type": "stream",
          "name": "stdout",
          "text": [
            "X_test:      Region  Total Revenue  Total Profit\n",
            "521       4       93943.04      35276.48\n",
            "737       1      310328.81      95152.82\n",
            "740       2      632416.30     259148.65\n",
            "660       6     3397058.28     460574.40\n",
            "411       6      725314.80     288450.33\n",
            "..      ...            ...           ...\n",
            "408       2     1687400.80     633634.60\n",
            "332       5       86121.75      28422.90\n",
            "208       6     1551389.40     668145.78\n",
            "613       6     3124830.52     774953.48\n",
            "78        4     1283773.70     552890.19\n",
            "\n",
            "[200 rows x 3 columns]\n",
            "y_pred: ['Baby Food' 'Personal Care' 'Cosmetics' 'Meat' 'Cosmetics'\n",
            " 'Office Supplies' 'Cosmetics' 'Snacks' 'Personal Care' 'Household'\n",
            " 'Baby Food' 'Meat' 'Cereal' 'Clothes' 'Clothes' 'Household' 'Household'\n",
            " 'Cosmetics' 'Household' 'Cereal' 'Household' 'Personal Care' 'Clothes'\n",
            " 'Cosmetics' 'Household' 'Cosmetics' 'Cosmetics' 'Clothes' 'Baby Food'\n",
            " 'Cosmetics' 'Cosmetics' 'Meat' 'Cosmetics' 'Household' 'Cosmetics'\n",
            " 'Household' 'Clothes' 'Cereal' 'Cosmetics' 'Personal Care' 'Baby Food'\n",
            " 'Household' 'Household' 'Clothes' 'Cosmetics' 'Meat' 'Baby Food'\n",
            " 'Cosmetics' 'Household' 'Cosmetics' 'Personal Care' 'Clothes' 'Household'\n",
            " 'Personal Care' 'Clothes' 'Personal Care' 'Personal Care' 'Clothes'\n",
            " 'Household' 'Baby Food' 'Cosmetics' 'Household' 'Office Supplies'\n",
            " 'Cosmetics' 'Snacks' 'Snacks' 'Cereal' 'Baby Food' 'Household'\n",
            " 'Cosmetics' 'Cosmetics' 'Snacks' 'Household' 'Cosmetics' 'Personal Care'\n",
            " 'Cereal' 'Snacks' 'Office Supplies' 'Household' 'Household' 'Meat'\n",
            " 'Cereal' 'Household' 'Office Supplies' 'Baby Food' 'Cosmetics'\n",
            " 'Household' 'Personal Care' 'Snacks' 'Personal Care' 'Meat' 'Cosmetics'\n",
            " 'Household' 'Clothes' 'Office Supplies' 'Clothes' 'Household'\n",
            " 'Personal Care' 'Clothes' 'Clothes' 'Household' 'Personal Care'\n",
            " 'Personal Care' 'Personal Care' 'Cosmetics' 'Baby Food' 'Household'\n",
            " 'Personal Care' 'Personal Care' 'Baby Food' 'Household' 'Cosmetics'\n",
            " 'Office Supplies' 'Meat' 'Cereal' 'Cosmetics' 'Meat' 'Personal Care'\n",
            " 'Personal Care' 'Cosmetics' 'Cereal' 'Household' 'Household' 'Household'\n",
            " 'Baby Food' 'Cereal' 'Personal Care' 'Personal Care' 'Personal Care'\n",
            " 'Personal Care' 'Cereal' 'Baby Food' 'Household' 'Snacks' 'Snacks'\n",
            " 'Snacks' 'Snacks' 'Meat' 'Personal Care' 'Personal Care'\n",
            " 'Office Supplies' 'Office Supplies' 'Clothes' 'Office Supplies'\n",
            " 'Household' 'Snacks' 'Cosmetics' 'Personal Care' 'Clothes' 'Baby Food'\n",
            " 'Clothes' 'Office Supplies' 'Personal Care' 'Snacks' 'Personal Care'\n",
            " 'Cosmetics' 'Cereal' 'Cosmetics' 'Office Supplies' 'Personal Care' 'Meat'\n",
            " 'Household' 'Cosmetics' 'Baby Food' 'Office Supplies' 'Household'\n",
            " 'Cereal' 'Office Supplies' 'Cosmetics' 'Clothes' 'Cereal' 'Personal Care'\n",
            " 'Personal Care' 'Cereal' 'Meat' 'Household' 'Household' 'Meat'\n",
            " 'Baby Food' 'Cosmetics' 'Personal Care' 'Personal Care' 'Meat'\n",
            " 'Cosmetics' 'Cosmetics' 'Personal Care' 'Snacks' 'Baby Food' 'Snacks'\n",
            " 'Personal Care' 'Personal Care' 'Cosmetics' 'Snacks' 'Cereal' 'Clothes'\n",
            " 'Baby Food' 'Personal Care' 'Cereal' 'Household' 'Cereal']\n",
            "Accuracy: 0.69\n"
          ]
        },
        {
          "output_type": "stream",
          "name": "stderr",
          "text": [
            "<ipython-input-5-7e93f9e2db15>:15: SettingWithCopyWarning: \n",
            "A value is trying to be set on a copy of a slice from a DataFrame.\n",
            "Try using .loc[row_indexer,col_indexer] = value instead\n",
            "\n",
            "See the caveats in the documentation: https://pandas.pydata.org/pandas-docs/stable/user_guide/indexing.html#returning-a-view-versus-a-copy\n",
            "  X['Region'] = label_encoder.fit_transform(X['Region'])\n",
            "/usr/local/lib/python3.10/dist-packages/sklearn/linear_model/_logistic.py:458: ConvergenceWarning: lbfgs failed to converge (status=1):\n",
            "STOP: TOTAL NO. of ITERATIONS REACHED LIMIT.\n",
            "\n",
            "Increase the number of iterations (max_iter) or scale the data as shown in:\n",
            "    https://scikit-learn.org/stable/modules/preprocessing.html\n",
            "Please also refer to the documentation for alternative solver options:\n",
            "    https://scikit-learn.org/stable/modules/linear_model.html#logistic-regression\n",
            "  n_iter_i = _check_optimize_result(\n"
          ]
        }
      ],
      "source": [
        "import pandas as pd\n",
        "from sklearn.linear_model import LogisticRegression\n",
        "from sklearn.model_selection import train_test_split\n",
        "from sklearn.preprocessing import LabelEncoder\n",
        "\n",
        "#Read the dataset\n",
        "data = pd.read_csv(\"New 1000 Sales Records.csv\")\n",
        "\n",
        "#Split the dataset into features(X) and target variable(y)\n",
        "X = data[['Region','Total Revenue','Total Profit']]\n",
        "y = data['Item Type']\n",
        "\n",
        "#Encode categorical variables into numerical representation\n",
        "label_encoder = LabelEncoder()\n",
        "X['Region'] = label_encoder.fit_transform(X['Region'])\n",
        "\n",
        "#Spit the data into training and testing sets\n",
        "X_train, X_test, y_train, y_test = train_test_split(X,y,test_size=0.2, random_state=42)\n",
        "\n",
        "#create and train the multinomial logistic regression model\n",
        "model = LogisticRegression(multi_class = 'multinomial', solver = 'lbfgs')\n",
        "model.fit(X_train, y_train)\n",
        "\n",
        "#Predict the preffered food type for test data\n",
        "y_pred = model.predict(X_test)\n",
        "print(\"X_test:\", X_test)\n",
        "print(\"y_pred:\", y_pred)\n",
        "\n",
        "#Evaluation the model's accuracy\n",
        "accuracy = (y_pred == y_test).mean()\n",
        "print(\"Accuracy:\", accuracy)"
      ]
    }
  ]
}